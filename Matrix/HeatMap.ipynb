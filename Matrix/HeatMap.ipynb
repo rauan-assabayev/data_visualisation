{
  "nbformat": 4,
  "nbformat_minor": 0,
  "metadata": {
    "colab": {
      "name": "HeatMap.ipynb",
      "provenance": []
    },
    "kernelspec": {
      "name": "python3",
      "display_name": "Python 3"
    }
  },
  "cells": [
    {
      "cell_type": "code",
      "metadata": {
        "id": "bAXe13fDd-zJ"
      },
      "source": [
        "import string\n",
        "import nltk\n",
        "from nltk.tokenize import RegexpTokenizer\n",
        "from nltk.corpus import stopwords\n",
        "import re\n",
        "import numpy as np\n",
        "import pandas as pd\n",
        "from nltk.tokenize import word_tokenize, sent_tokenize\n",
        "from nltk.corpus import stopwords\n",
        "from string import punctuation\n",
        "from nltk.stem.porter import *\n",
        "from nltk.stem import WordNetLemmatizer"
      ],
      "execution_count": 1,
      "outputs": []
    },
    {
      "cell_type": "code",
      "metadata": {
        "colab": {
          "base_uri": "https://localhost:8080/"
        },
        "id": "kA9qAm9aetjK",
        "outputId": "b6a73549-f56f-4a27-c8fe-76c35f2e7e40"
      },
      "source": [
        "nltk.download('brown')"
      ],
      "execution_count": 2,
      "outputs": [
        {
          "output_type": "stream",
          "text": [
            "[nltk_data] Downloading package brown to /root/nltk_data...\n",
            "[nltk_data]   Package brown is already up-to-date!\n"
          ],
          "name": "stdout"
        },
        {
          "output_type": "execute_result",
          "data": {
            "text/plain": [
              "True"
            ]
          },
          "metadata": {
            "tags": []
          },
          "execution_count": 2
        }
      ]
    },
    {
      "cell_type": "code",
      "metadata": {
        "colab": {
          "base_uri": "https://localhost:8080/"
        },
        "id": "0KdGpynnfdGF",
        "outputId": "bf68db43-b95f-4ce0-aa1c-4d2e8a0e76ef"
      },
      "source": [
        "from nltk.corpus import brown\n",
        "brown.categories()"
      ],
      "execution_count": 3,
      "outputs": [
        {
          "output_type": "execute_result",
          "data": {
            "text/plain": [
              "['adventure',\n",
              " 'belles_lettres',\n",
              " 'editorial',\n",
              " 'fiction',\n",
              " 'government',\n",
              " 'hobbies',\n",
              " 'humor',\n",
              " 'learned',\n",
              " 'lore',\n",
              " 'mystery',\n",
              " 'news',\n",
              " 'religion',\n",
              " 'reviews',\n",
              " 'romance',\n",
              " 'science_fiction']"
            ]
          },
          "metadata": {
            "tags": []
          },
          "execution_count": 3
        }
      ]
    },
    {
      "cell_type": "code",
      "metadata": {
        "colab": {
          "base_uri": "https://localhost:8080/"
        },
        "id": "zwzxXlf4wiGN",
        "outputId": "7ee10605-b73c-463c-968e-99b263b58fda"
      },
      "source": [
        "humor_text = brown.sents(categories='adventure')\n",
        "print(humor_text[:5])"
      ],
      "execution_count": 4,
      "outputs": [
        {
          "output_type": "stream",
          "text": [
            "[['Dan', 'Morgan', 'told', 'himself', 'he', 'would', 'forget', 'Ann', 'Turner', '.'], ['He', 'was', 'well', 'rid', 'of', 'her', '.'], ['He', 'certainly', \"didn't\", 'want', 'a', 'wife', 'who', 'was', 'fickle', 'as', 'Ann', '.'], ['If', 'he', 'had', 'married', 'her', ',', \"he'd\", 'have', 'been', 'asking', 'for', 'trouble', '.'], ['But', 'all', 'of', 'this', 'was', 'rationalization', '.']]\n"
          ],
          "name": "stdout"
        }
      ]
    },
    {
      "cell_type": "code",
      "metadata": {
        "id": "3jX5xDfS0jF4"
      },
      "source": [
        "all_stopwords = ['i', 'me', 'my', 'myself', 'we', 'our', 'ours', 'ourselves', 'you', \"you're\", \"you've\", \"you'll\", \"you'd\", 'your', 'yours', 'yourself', 'yourselves', 'he', 'him', 'his', 'himself', 'she', \"she's\", 'her', 'hers', 'herself', 'it', \"it's\", 'its', 'itself', 'they', 'them', 'their', 'theirs', 'themselves', 'what', 'which', 'who', 'whom', 'this', 'that', \"that'll\", 'these', 'those', 'am', 'is', 'are', 'was', 'were', 'be', 'been', 'being', 'have', 'has', 'had', 'having', 'do', 'does', 'did', 'doing', 'a', 'an', 'the', 'and', 'but', 'if', 'or', 'because', 'as', 'until', 'while', 'of', 'at', 'by', 'for', 'with', 'about', 'against', 'between', 'into', 'through', 'during', 'before', 'after', 'above', 'below', 'to', 'from', 'up', 'down', 'in', 'out', 'on', 'off', 'over', 'under', 'again', 'further', 'then', 'once', 'here', 'there', 'when', 'where', 'why', 'how', 'all', 'any', 'both', 'each', 'few', 'more', 'most', 'other', 'some', 'such', 'no', 'nor', 'not', 'only', 'own', 'same', 'so', 'than', 'too', 'very', 's', 't', 'can', 'will', 'just', 'don', \"don't\", 'should', \"should've\", 'now', 'd', 'll', 'm', 'o', 're', 've', 'y', 'ain', 'aren', \"aren't\", 'couldn', \"couldn't\", 'didn', \"didn't\", 'doesn', \"doesn't\", 'hadn', \"hadn't\", 'hasn', \"hasn't\", 'haven', \"haven't\", 'isn', \"isn't\", 'ma', 'mightn', \"mightn't\", 'mustn', \"mustn't\", 'needn', \"needn't\", 'shan', \"shan't\", 'shouldn', \"shouldn't\", 'wasn', \"wasn't\", 'weren', \"weren't\", 'won', \"won't\", 'wouldn', \"wouldn't\"]\n",
        "def text_process(sentence):                                                                                                                        \n",
        "    nopuncList = []\n",
        "    for i in sentence:\n",
        "        nopunc = [word for word in i if word not in string.punctuation]\n",
        "        nopunc = ''.join(nopunc)\n",
        "        nopuncList.append(nopunc.lower())\n",
        "        nopuncList = list(filter(None, nopuncList))\n",
        "    nopuncList = [word for word in nopuncList if not word in all_stopwords]\n",
        "    return nopuncList"
      ],
      "execution_count": 5,
      "outputs": []
    },
    {
      "cell_type": "code",
      "metadata": {
        "id": "605E7ZbTyRo3"
      },
      "source": [
        "stemmer = PorterStemmer()\n",
        "dataset = []\n",
        "for sentence in humor_text:\n",
        "  process_data = text_process(sentence)\n",
        "  for i in range(0,len(process_data)):\n",
        "    process_data[i] = stemmer.stem(process_data[i])\n",
        "  dataset.append(process_data)"
      ],
      "execution_count": 6,
      "outputs": []
    },
    {
      "cell_type": "code",
      "metadata": {
        "colab": {
          "base_uri": "https://localhost:8080/"
        },
        "id": "HGzWoyct5Q00",
        "outputId": "7f14b1a9-f48b-4321-d76d-61375ca11411"
      },
      "source": [
        "print(dataset[:5])"
      ],
      "execution_count": 7,
      "outputs": [
        {
          "output_type": "stream",
          "text": [
            "[['dan', 'morgan', 'told', 'would', 'forget', 'ann', 'turner'], ['well', 'rid'], ['certainli', 'didnt', 'want', 'wife', 'fickl', 'ann'], ['marri', 'hed', 'ask', 'troubl'], ['ration']]\n"
          ],
          "name": "stdout"
        }
      ]
    },
    {
      "cell_type": "code",
      "metadata": {
        "id": "i6rCrfNN0dhm"
      },
      "source": [
        "matrix = {}\n",
        "for sentence in dataset:\n",
        "  for i in range(0,len(sentence)-1):\n",
        "    key = sentence[i]+\"-\"+sentence[i+1]\n",
        "    if key in matrix:\n",
        "      matrix[key] = matrix[key] + 1\n",
        "    else:\n",
        "      matrix[key] = 0"
      ],
      "execution_count": 8,
      "outputs": []
    },
    {
      "cell_type": "code",
      "metadata": {
        "id": "zWbD8F1m90aM"
      },
      "source": [
        "edgelist = []\n",
        "for k, v in matrix.items():\n",
        "  if(v > 2):\n",
        "    edge = {}\n",
        "    edge[\"source\"] = k.split(\"-\")[0]\n",
        "    edge[\"target\"] = k.split(\"-\")[1]\n",
        "    edge[\"weight\"] = v\n",
        "    edgelist.append(edge)"
      ],
      "execution_count": 9,
      "outputs": []
    },
    {
      "cell_type": "code",
      "metadata": {
        "colab": {
          "base_uri": "https://localhost:8080/"
        },
        "id": "CScR8ODzCbyC",
        "outputId": "662d338c-3d48-4e20-fcc9-d64e17c681ff"
      },
      "source": [
        "edge_list = []\n",
        "for i in edgelist:\n",
        "  state = False\n",
        "  for j in edgelist:\n",
        "    if i[\"source\"] == j[\"target\"]:\n",
        "      state = True\n",
        "  if state:\n",
        "    edge_list.append(i)\n",
        "    state = False\n",
        "edge_list"
      ],
      "execution_count": 10,
      "outputs": [
        {
          "output_type": "execute_result",
          "data": {
            "text/plain": [
              "[{'source': 'could', 'target': 'get', 'weight': 6},\n",
              " {'source': 'get', 'target': 'back', 'weight': 8},\n",
              " {'source': 'thing', 'target': 'would', 'weight': 4},\n",
              " {'source': 'one', 'target': 'hand', 'weight': 5},\n",
              " {'source': 'would', 'target': 'go', 'weight': 6},\n",
              " {'source': 'man', 'target': 'could', 'weight': 5},\n",
              " {'source': 'never', 'target': 'seen', 'weight': 5},\n",
              " {'source': 'morgan', 'target': 'said', 'weight': 4},\n",
              " {'source': 'back', 'target': 'hous', 'weight': 3},\n",
              " {'source': 'go', 'target': 'town', 'weight': 3},\n",
              " {'source': 'girl', 'target': 'said', 'weight': 4},\n",
              " {'source': 'men', 'target': 'left', 'weight': 3},\n",
              " {'source': 'want', 'target': 'go', 'weight': 4},\n",
              " {'source': 'could', 'target': 'make', 'weight': 4},\n",
              " {'source': 'would', 'target': 'come', 'weight': 4},\n",
              " {'source': 'yard', 'target': 'away', 'weight': 3},\n",
              " {'source': 'one', 'target': 'side', 'weight': 3},\n",
              " {'source': 'could', 'target': 'see', 'weight': 23},\n",
              " {'source': 'look', 'target': 'back', 'weight': 4},\n",
              " {'source': 'would', 'target': 'never', 'weight': 5},\n",
              " {'source': 'got', 'target': 'get', 'weight': 3},\n",
              " {'source': 'get', 'target': 'away', 'weight': 5},\n",
              " {'source': 'come', 'target': 'along', 'weight': 4},\n",
              " {'source': 'would', 'target': 'make', 'weight': 3},\n",
              " {'source': 'see', 'target': 'face', 'weight': 3},\n",
              " {'source': 'could', 'target': 'hear', 'weight': 7},\n",
              " {'source': 'make', 'target': 'sure', 'weight': 3},\n",
              " {'source': 'want', 'target': 'see', 'weight': 3},\n",
              " {'source': 'go', 'target': 'back', 'weight': 3},\n",
              " {'source': 'go', 'target': 'home', 'weight': 3},\n",
              " {'source': 'three', 'target': 'four', 'weight': 3},\n",
              " {'source': 'look', 'target': 'like', 'weight': 5},\n",
              " {'source': 'one', 'target': 'thing', 'weight': 6},\n",
              " {'source': 'minut', 'target': 'later', 'weight': 6},\n",
              " {'source': 'one', 'target': 'day', 'weight': 4},\n",
              " {'source': 'one', 'target': 'anoth', 'weight': 4},\n",
              " {'source': 'head', 'target': 'back', 'weight': 4},\n",
              " {'source': 'time', 'target': 'time', 'weight': 3},\n",
              " {'source': 'look', 'target': 'around', 'weight': 9},\n",
              " {'source': 'back', 'target': 'town', 'weight': 3},\n",
              " {'source': 'right', 'target': 'hand', 'weight': 4},\n",
              " {'source': 'brannon', 'target': 'said', 'weight': 5},\n",
              " {'source': 'back', 'target': 'door', 'weight': 3},\n",
              " {'source': 'three', 'target': 'day', 'weight': 4},\n",
              " {'source': 'left', 'target': 'hand', 'weight': 3},\n",
              " {'source': 'think', 'target': 'would', 'weight': 3},\n",
              " {'source': 'man', 'target': 'said', 'weight': 4},\n",
              " {'source': 'make', 'target': 'dive', 'weight': 4},\n",
              " {'source': 'schaffner', 'target': 'said', 'weight': 4},\n",
              " {'source': 'said', 'target': 'tilghman', 'weight': 3}]"
            ]
          },
          "metadata": {
            "tags": []
          },
          "execution_count": 10
        }
      ]
    },
    {
      "cell_type": "code",
      "metadata": {
        "colab": {
          "base_uri": "https://localhost:8080/",
          "height": 1000
        },
        "id": "dVzXUjh9_3dz",
        "outputId": "456fd539-2e04-4e85-ab29-b3cadd32de61"
      },
      "source": [
        "pdlist = pd.DataFrame(pd.DataFrame(edge_list).values,columns = [\"source\",\"target\",\"weight\"])\n",
        "pdlist"
      ],
      "execution_count": 11,
      "outputs": [
        {
          "output_type": "execute_result",
          "data": {
            "text/html": [
              "<div>\n",
              "<style scoped>\n",
              "    .dataframe tbody tr th:only-of-type {\n",
              "        vertical-align: middle;\n",
              "    }\n",
              "\n",
              "    .dataframe tbody tr th {\n",
              "        vertical-align: top;\n",
              "    }\n",
              "\n",
              "    .dataframe thead th {\n",
              "        text-align: right;\n",
              "    }\n",
              "</style>\n",
              "<table border=\"1\" class=\"dataframe\">\n",
              "  <thead>\n",
              "    <tr style=\"text-align: right;\">\n",
              "      <th></th>\n",
              "      <th>source</th>\n",
              "      <th>target</th>\n",
              "      <th>weight</th>\n",
              "    </tr>\n",
              "  </thead>\n",
              "  <tbody>\n",
              "    <tr>\n",
              "      <th>0</th>\n",
              "      <td>could</td>\n",
              "      <td>get</td>\n",
              "      <td>6</td>\n",
              "    </tr>\n",
              "    <tr>\n",
              "      <th>1</th>\n",
              "      <td>get</td>\n",
              "      <td>back</td>\n",
              "      <td>8</td>\n",
              "    </tr>\n",
              "    <tr>\n",
              "      <th>2</th>\n",
              "      <td>thing</td>\n",
              "      <td>would</td>\n",
              "      <td>4</td>\n",
              "    </tr>\n",
              "    <tr>\n",
              "      <th>3</th>\n",
              "      <td>one</td>\n",
              "      <td>hand</td>\n",
              "      <td>5</td>\n",
              "    </tr>\n",
              "    <tr>\n",
              "      <th>4</th>\n",
              "      <td>would</td>\n",
              "      <td>go</td>\n",
              "      <td>6</td>\n",
              "    </tr>\n",
              "    <tr>\n",
              "      <th>5</th>\n",
              "      <td>man</td>\n",
              "      <td>could</td>\n",
              "      <td>5</td>\n",
              "    </tr>\n",
              "    <tr>\n",
              "      <th>6</th>\n",
              "      <td>never</td>\n",
              "      <td>seen</td>\n",
              "      <td>5</td>\n",
              "    </tr>\n",
              "    <tr>\n",
              "      <th>7</th>\n",
              "      <td>morgan</td>\n",
              "      <td>said</td>\n",
              "      <td>4</td>\n",
              "    </tr>\n",
              "    <tr>\n",
              "      <th>8</th>\n",
              "      <td>back</td>\n",
              "      <td>hous</td>\n",
              "      <td>3</td>\n",
              "    </tr>\n",
              "    <tr>\n",
              "      <th>9</th>\n",
              "      <td>go</td>\n",
              "      <td>town</td>\n",
              "      <td>3</td>\n",
              "    </tr>\n",
              "    <tr>\n",
              "      <th>10</th>\n",
              "      <td>girl</td>\n",
              "      <td>said</td>\n",
              "      <td>4</td>\n",
              "    </tr>\n",
              "    <tr>\n",
              "      <th>11</th>\n",
              "      <td>men</td>\n",
              "      <td>left</td>\n",
              "      <td>3</td>\n",
              "    </tr>\n",
              "    <tr>\n",
              "      <th>12</th>\n",
              "      <td>want</td>\n",
              "      <td>go</td>\n",
              "      <td>4</td>\n",
              "    </tr>\n",
              "    <tr>\n",
              "      <th>13</th>\n",
              "      <td>could</td>\n",
              "      <td>make</td>\n",
              "      <td>4</td>\n",
              "    </tr>\n",
              "    <tr>\n",
              "      <th>14</th>\n",
              "      <td>would</td>\n",
              "      <td>come</td>\n",
              "      <td>4</td>\n",
              "    </tr>\n",
              "    <tr>\n",
              "      <th>15</th>\n",
              "      <td>yard</td>\n",
              "      <td>away</td>\n",
              "      <td>3</td>\n",
              "    </tr>\n",
              "    <tr>\n",
              "      <th>16</th>\n",
              "      <td>one</td>\n",
              "      <td>side</td>\n",
              "      <td>3</td>\n",
              "    </tr>\n",
              "    <tr>\n",
              "      <th>17</th>\n",
              "      <td>could</td>\n",
              "      <td>see</td>\n",
              "      <td>23</td>\n",
              "    </tr>\n",
              "    <tr>\n",
              "      <th>18</th>\n",
              "      <td>look</td>\n",
              "      <td>back</td>\n",
              "      <td>4</td>\n",
              "    </tr>\n",
              "    <tr>\n",
              "      <th>19</th>\n",
              "      <td>would</td>\n",
              "      <td>never</td>\n",
              "      <td>5</td>\n",
              "    </tr>\n",
              "    <tr>\n",
              "      <th>20</th>\n",
              "      <td>got</td>\n",
              "      <td>get</td>\n",
              "      <td>3</td>\n",
              "    </tr>\n",
              "    <tr>\n",
              "      <th>21</th>\n",
              "      <td>get</td>\n",
              "      <td>away</td>\n",
              "      <td>5</td>\n",
              "    </tr>\n",
              "    <tr>\n",
              "      <th>22</th>\n",
              "      <td>come</td>\n",
              "      <td>along</td>\n",
              "      <td>4</td>\n",
              "    </tr>\n",
              "    <tr>\n",
              "      <th>23</th>\n",
              "      <td>would</td>\n",
              "      <td>make</td>\n",
              "      <td>3</td>\n",
              "    </tr>\n",
              "    <tr>\n",
              "      <th>24</th>\n",
              "      <td>see</td>\n",
              "      <td>face</td>\n",
              "      <td>3</td>\n",
              "    </tr>\n",
              "    <tr>\n",
              "      <th>25</th>\n",
              "      <td>could</td>\n",
              "      <td>hear</td>\n",
              "      <td>7</td>\n",
              "    </tr>\n",
              "    <tr>\n",
              "      <th>26</th>\n",
              "      <td>make</td>\n",
              "      <td>sure</td>\n",
              "      <td>3</td>\n",
              "    </tr>\n",
              "    <tr>\n",
              "      <th>27</th>\n",
              "      <td>want</td>\n",
              "      <td>see</td>\n",
              "      <td>3</td>\n",
              "    </tr>\n",
              "    <tr>\n",
              "      <th>28</th>\n",
              "      <td>go</td>\n",
              "      <td>back</td>\n",
              "      <td>3</td>\n",
              "    </tr>\n",
              "    <tr>\n",
              "      <th>29</th>\n",
              "      <td>go</td>\n",
              "      <td>home</td>\n",
              "      <td>3</td>\n",
              "    </tr>\n",
              "    <tr>\n",
              "      <th>30</th>\n",
              "      <td>three</td>\n",
              "      <td>four</td>\n",
              "      <td>3</td>\n",
              "    </tr>\n",
              "    <tr>\n",
              "      <th>31</th>\n",
              "      <td>look</td>\n",
              "      <td>like</td>\n",
              "      <td>5</td>\n",
              "    </tr>\n",
              "    <tr>\n",
              "      <th>32</th>\n",
              "      <td>one</td>\n",
              "      <td>thing</td>\n",
              "      <td>6</td>\n",
              "    </tr>\n",
              "    <tr>\n",
              "      <th>33</th>\n",
              "      <td>minut</td>\n",
              "      <td>later</td>\n",
              "      <td>6</td>\n",
              "    </tr>\n",
              "    <tr>\n",
              "      <th>34</th>\n",
              "      <td>one</td>\n",
              "      <td>day</td>\n",
              "      <td>4</td>\n",
              "    </tr>\n",
              "    <tr>\n",
              "      <th>35</th>\n",
              "      <td>one</td>\n",
              "      <td>anoth</td>\n",
              "      <td>4</td>\n",
              "    </tr>\n",
              "    <tr>\n",
              "      <th>36</th>\n",
              "      <td>head</td>\n",
              "      <td>back</td>\n",
              "      <td>4</td>\n",
              "    </tr>\n",
              "    <tr>\n",
              "      <th>37</th>\n",
              "      <td>time</td>\n",
              "      <td>time</td>\n",
              "      <td>3</td>\n",
              "    </tr>\n",
              "    <tr>\n",
              "      <th>38</th>\n",
              "      <td>look</td>\n",
              "      <td>around</td>\n",
              "      <td>9</td>\n",
              "    </tr>\n",
              "    <tr>\n",
              "      <th>39</th>\n",
              "      <td>back</td>\n",
              "      <td>town</td>\n",
              "      <td>3</td>\n",
              "    </tr>\n",
              "    <tr>\n",
              "      <th>40</th>\n",
              "      <td>right</td>\n",
              "      <td>hand</td>\n",
              "      <td>4</td>\n",
              "    </tr>\n",
              "    <tr>\n",
              "      <th>41</th>\n",
              "      <td>brannon</td>\n",
              "      <td>said</td>\n",
              "      <td>5</td>\n",
              "    </tr>\n",
              "    <tr>\n",
              "      <th>42</th>\n",
              "      <td>back</td>\n",
              "      <td>door</td>\n",
              "      <td>3</td>\n",
              "    </tr>\n",
              "    <tr>\n",
              "      <th>43</th>\n",
              "      <td>three</td>\n",
              "      <td>day</td>\n",
              "      <td>4</td>\n",
              "    </tr>\n",
              "    <tr>\n",
              "      <th>44</th>\n",
              "      <td>left</td>\n",
              "      <td>hand</td>\n",
              "      <td>3</td>\n",
              "    </tr>\n",
              "    <tr>\n",
              "      <th>45</th>\n",
              "      <td>think</td>\n",
              "      <td>would</td>\n",
              "      <td>3</td>\n",
              "    </tr>\n",
              "    <tr>\n",
              "      <th>46</th>\n",
              "      <td>man</td>\n",
              "      <td>said</td>\n",
              "      <td>4</td>\n",
              "    </tr>\n",
              "    <tr>\n",
              "      <th>47</th>\n",
              "      <td>make</td>\n",
              "      <td>dive</td>\n",
              "      <td>4</td>\n",
              "    </tr>\n",
              "    <tr>\n",
              "      <th>48</th>\n",
              "      <td>schaffner</td>\n",
              "      <td>said</td>\n",
              "      <td>4</td>\n",
              "    </tr>\n",
              "    <tr>\n",
              "      <th>49</th>\n",
              "      <td>said</td>\n",
              "      <td>tilghman</td>\n",
              "      <td>3</td>\n",
              "    </tr>\n",
              "  </tbody>\n",
              "</table>\n",
              "</div>"
            ],
            "text/plain": [
              "       source    target weight\n",
              "0       could       get      6\n",
              "1         get      back      8\n",
              "2       thing     would      4\n",
              "3         one      hand      5\n",
              "4       would        go      6\n",
              "5         man     could      5\n",
              "6       never      seen      5\n",
              "7      morgan      said      4\n",
              "8        back      hous      3\n",
              "9          go      town      3\n",
              "10       girl      said      4\n",
              "11        men      left      3\n",
              "12       want        go      4\n",
              "13      could      make      4\n",
              "14      would      come      4\n",
              "15       yard      away      3\n",
              "16        one      side      3\n",
              "17      could       see     23\n",
              "18       look      back      4\n",
              "19      would     never      5\n",
              "20        got       get      3\n",
              "21        get      away      5\n",
              "22       come     along      4\n",
              "23      would      make      3\n",
              "24        see      face      3\n",
              "25      could      hear      7\n",
              "26       make      sure      3\n",
              "27       want       see      3\n",
              "28         go      back      3\n",
              "29         go      home      3\n",
              "30      three      four      3\n",
              "31       look      like      5\n",
              "32        one     thing      6\n",
              "33      minut     later      6\n",
              "34        one       day      4\n",
              "35        one     anoth      4\n",
              "36       head      back      4\n",
              "37       time      time      3\n",
              "38       look    around      9\n",
              "39       back      town      3\n",
              "40      right      hand      4\n",
              "41    brannon      said      5\n",
              "42       back      door      3\n",
              "43      three       day      4\n",
              "44       left      hand      3\n",
              "45      think     would      3\n",
              "46        man      said      4\n",
              "47       make      dive      4\n",
              "48  schaffner      said      4\n",
              "49       said  tilghman      3"
            ]
          },
          "metadata": {
            "tags": []
          },
          "execution_count": 11
        }
      ]
    },
    {
      "cell_type": "code",
      "metadata": {
        "id": "XZzxFAFvGSAy"
      },
      "source": [
        "pdlist.to_csv(r'edgelist.csv',index=False)"
      ],
      "execution_count": 12,
      "outputs": []
    },
    {
      "cell_type": "code",
      "metadata": {
        "id": "fmhcUv-BMIzF"
      },
      "source": [
        "ids = []\n",
        "for r in edge_list:\n",
        "  if r['source'] not in ids:\n",
        "    ids.append(r['source'])\n",
        "  if r['target'] not in ids:\n",
        "    ids.append(r['target'])"
      ],
      "execution_count": 13,
      "outputs": []
    },
    {
      "cell_type": "code",
      "metadata": {
        "id": "KdK-RgVtISvN"
      },
      "source": [
        "edge_list = pd.DataFrame(columns = ({\"id\"}))\n",
        "edge_list[\"id\"] = ids\n",
        "edge_list.to_csv(r'nodelist.csv',index=False)"
      ],
      "execution_count": 14,
      "outputs": []
    }
  ]
}