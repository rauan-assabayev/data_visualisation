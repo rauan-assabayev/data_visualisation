{
  "nbformat": 4,
  "nbformat_minor": 0,
  "metadata": {
    "colab": {
      "name": "WordNet.ipynb",
      "provenance": []
    },
    "kernelspec": {
      "name": "python3",
      "display_name": "Python 3"
    }
  },
  "cells": [
    {
      "cell_type": "code",
      "metadata": {
        "colab": {
          "base_uri": "https://localhost:8080/"
        },
        "id": "AmSrfu1MEun9",
        "outputId": "a20866eb-caa1-4168-e6d4-6bc54df90273"
      },
      "source": [
        "import nltk \n",
        "nltk.download('wordnet')\n",
        "from nltk.corpus import wordnet as wn"
      ],
      "execution_count": 44,
      "outputs": [
        {
          "output_type": "stream",
          "text": [
            "[nltk_data] Downloading package wordnet to /root/nltk_data...\n",
            "[nltk_data]   Package wordnet is already up-to-date!\n"
          ],
          "name": "stdout"
        }
      ]
    },
    {
      "cell_type": "code",
      "metadata": {
        "id": "ZMb21LvrT7wj"
      },
      "source": [
        "def closure_graph(synset,fn):\n",
        "    seen = set()\n",
        "    node = set()\n",
        "    edge = list()\n",
        "    synsets = []\n",
        "    def recurse(s):\n",
        "        if not s in seen:\n",
        "            seen.add(s)\n",
        "            print(s.lemma_names('eng')[0])\n",
        "            for i in range(len(s.lemma_names('eng'))):\n",
        "                node.add(s.lemma_names('eng')[i])\n",
        "            synsets.append(s.lemma_names('eng'))\n",
        "            for s1 in fn(s):\n",
        "                node.add(s1.lemma_names('eng')[0])\n",
        "                edge.append({\"source\":s.lemma_names('eng')[0],\"target\":s1.lemma_names('eng')[0], \"type\":\"hyper\"})\n",
        "                recurse(s1)\n",
        "    recurse(synset)\n",
        "    return (list(node),edge,synsets)"
      ],
      "execution_count": 45,
      "outputs": []
    },
    {
      "cell_type": "code",
      "metadata": {
        "colab": {
          "base_uri": "https://localhost:8080/"
        },
        "id": "JT9N47v0ZQYd",
        "outputId": "cc8af6f2-40e8-40f5-d2a0-229c0c74e3a4"
      },
      "source": [
        "import json\n",
        "dog = wn.synset('dog.n.01')\n",
        "graph = closure_graph(dog,lambda s: s.hypernyms())"
      ],
      "execution_count": 46,
      "outputs": [
        {
          "output_type": "stream",
          "text": [
            "dog\n",
            "canine\n",
            "carnivore\n",
            "placental\n",
            "mammal\n",
            "vertebrate\n",
            "chordate\n",
            "animal\n",
            "organism\n",
            "living_thing\n",
            "whole\n",
            "object\n",
            "physical_entity\n",
            "entity\n",
            "domestic_animal\n"
          ],
          "name": "stdout"
        }
      ]
    },
    {
      "cell_type": "code",
      "metadata": {
        "colab": {
          "base_uri": "https://localhost:8080/"
        },
        "id": "bvUMvpu7W_f9",
        "outputId": "dda63689-29d0-441f-c285-77907b63e1dd"
      },
      "source": [
        "nodes = []\n",
        "links = []\n",
        "\n",
        "\n",
        "for i in range(len(graph[2])):\n",
        "   for j in range(len(graph[2][i])):\n",
        "     nodes.append({\"id\": graph[2][i][j],\"group\":i+1})\n",
        "     if j > 0:\n",
        "      links.append({\"source\": graph[2][i][j],\"target\": graph[2][i][0] ,\"value\": 1})\n",
        "\n",
        "for link in graph[1]:\n",
        "      links.append({\"source\": link['target'],\"target\": link['source'],\"value\": 1})\n",
        "\n",
        "print(nodes)\n",
        "print(links)"
      ],
      "execution_count": 47,
      "outputs": [
        {
          "output_type": "stream",
          "text": [
            "[{'id': 'dog', 'group': 1}, {'id': 'domestic_dog', 'group': 1}, {'id': 'Canis_familiaris', 'group': 1}, {'id': 'canine', 'group': 2}, {'id': 'canid', 'group': 2}, {'id': 'carnivore', 'group': 3}, {'id': 'placental', 'group': 4}, {'id': 'placental_mammal', 'group': 4}, {'id': 'eutherian', 'group': 4}, {'id': 'eutherian_mammal', 'group': 4}, {'id': 'mammal', 'group': 5}, {'id': 'mammalian', 'group': 5}, {'id': 'vertebrate', 'group': 6}, {'id': 'craniate', 'group': 6}, {'id': 'chordate', 'group': 7}, {'id': 'animal', 'group': 8}, {'id': 'animate_being', 'group': 8}, {'id': 'beast', 'group': 8}, {'id': 'brute', 'group': 8}, {'id': 'creature', 'group': 8}, {'id': 'fauna', 'group': 8}, {'id': 'organism', 'group': 9}, {'id': 'being', 'group': 9}, {'id': 'living_thing', 'group': 10}, {'id': 'animate_thing', 'group': 10}, {'id': 'whole', 'group': 11}, {'id': 'unit', 'group': 11}, {'id': 'object', 'group': 12}, {'id': 'physical_object', 'group': 12}, {'id': 'physical_entity', 'group': 13}, {'id': 'entity', 'group': 14}, {'id': 'domestic_animal', 'group': 15}, {'id': 'domesticated_animal', 'group': 15}]\n",
            "[{'source': 'domestic_dog', 'target': 'dog', 'value': 1}, {'source': 'Canis_familiaris', 'target': 'dog', 'value': 1}, {'source': 'canid', 'target': 'canine', 'value': 1}, {'source': 'placental_mammal', 'target': 'placental', 'value': 1}, {'source': 'eutherian', 'target': 'placental', 'value': 1}, {'source': 'eutherian_mammal', 'target': 'placental', 'value': 1}, {'source': 'mammalian', 'target': 'mammal', 'value': 1}, {'source': 'craniate', 'target': 'vertebrate', 'value': 1}, {'source': 'animate_being', 'target': 'animal', 'value': 1}, {'source': 'beast', 'target': 'animal', 'value': 1}, {'source': 'brute', 'target': 'animal', 'value': 1}, {'source': 'creature', 'target': 'animal', 'value': 1}, {'source': 'fauna', 'target': 'animal', 'value': 1}, {'source': 'being', 'target': 'organism', 'value': 1}, {'source': 'animate_thing', 'target': 'living_thing', 'value': 1}, {'source': 'unit', 'target': 'whole', 'value': 1}, {'source': 'physical_object', 'target': 'object', 'value': 1}, {'source': 'domesticated_animal', 'target': 'domestic_animal', 'value': 1}, {'source': 'canine', 'target': 'dog', 'value': 1}, {'source': 'carnivore', 'target': 'canine', 'value': 1}, {'source': 'placental', 'target': 'carnivore', 'value': 1}, {'source': 'mammal', 'target': 'placental', 'value': 1}, {'source': 'vertebrate', 'target': 'mammal', 'value': 1}, {'source': 'chordate', 'target': 'vertebrate', 'value': 1}, {'source': 'animal', 'target': 'chordate', 'value': 1}, {'source': 'organism', 'target': 'animal', 'value': 1}, {'source': 'living_thing', 'target': 'organism', 'value': 1}, {'source': 'whole', 'target': 'living_thing', 'value': 1}, {'source': 'object', 'target': 'whole', 'value': 1}, {'source': 'physical_entity', 'target': 'object', 'value': 1}, {'source': 'entity', 'target': 'physical_entity', 'value': 1}, {'source': 'domestic_animal', 'target': 'dog', 'value': 1}, {'source': 'animal', 'target': 'domestic_animal', 'value': 1}]\n"
          ],
          "name": "stdout"
        }
      ]
    },
    {
      "cell_type": "code",
      "metadata": {
        "id": "6vFNjV8AWfoz"
      },
      "source": [
        "with open(\"wordnet.json\",\"w\") as fh:\n",
        "    json.dump({\"nodes\":nodes,\"links\":links},fh)"
      ],
      "execution_count": 48,
      "outputs": []
    }
  ]
}